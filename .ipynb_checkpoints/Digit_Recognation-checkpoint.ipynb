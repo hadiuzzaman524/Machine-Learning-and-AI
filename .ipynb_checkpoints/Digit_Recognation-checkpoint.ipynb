{
 "cells": [
  {
   "cell_type": "code",
   "execution_count": 23,
   "metadata": {
    "id": "3AQ2hEmh7sDb"
   },
   "outputs": [],
   "source": [
    "import pandas as pd \n",
    "import numpy as np \n",
    "import matplotlib.pyplot as plt \n",
    "from sklearn.model_selection import train_test_split\n",
    "from keras.datasets import mnist\n",
    "from tensorflow.keras.utils import to_categorical\n",
    "from keras.models import Sequential\n",
    "from keras.layers import GlobalAveragePooling2D, Lambda, Conv2D, MaxPooling2D, Dropout, Dense, Flatten, Activation"
   ]
  },
  {
   "cell_type": "markdown",
   "metadata": {
    "id": "B4VHgvRB7sDd"
   },
   "source": [
    "# Load Dataset"
   ]
  },
  {
   "cell_type": "code",
   "execution_count": 24,
   "metadata": {
    "id": "7bJ5RT0j7sDe"
   },
   "outputs": [],
   "source": [
    "data= mnist.load_data()"
   ]
  },
  {
   "cell_type": "code",
   "execution_count": 25,
   "metadata": {
    "id": "ndXF5pjH7sDe"
   },
   "outputs": [],
   "source": [
    "(X_train, y_train), (X_test, y_test)= data"
   ]
  },
  {
   "cell_type": "markdown",
   "metadata": {
    "id": "rQ20cJvb7sDf"
   },
   "source": [
    "# Preprocessing the data"
   ]
  },
  {
   "cell_type": "code",
   "execution_count": 26,
   "metadata": {
    "colab": {
     "base_uri": "https://localhost:8080/"
    },
    "id": "zJ2K-Fkr7sDf",
    "outputId": "e43129cc-e754-47f9-ae31-697e20b5a3c1"
   },
   "outputs": [
    {
     "data": {
      "text/plain": [
       "((60000, 28, 28), (60000,), (10000, 28, 28), (10000,))"
      ]
     },
     "execution_count": 26,
     "metadata": {},
     "output_type": "execute_result"
    }
   ],
   "source": [
    "X_train.shape, y_train.shape, X_test.shape, y_test.shape"
   ]
  },
  {
   "cell_type": "code",
   "execution_count": 27,
   "metadata": {
    "colab": {
     "base_uri": "https://localhost:8080/",
     "height": 337
    },
    "id": "111JguED7sDh",
    "outputId": "3b7b6376-42d5-4743-9ddd-61e4d10b49de"
   },
   "outputs": [
    {
     "data": {
      "image/png": "[encoded data removed]",
      "text/plain": [
       "<Figure size 1440x720 with 20 Axes>"
      ]
     },
     "metadata": {
      "needs_background": "light"
     },
     "output_type": "display_data"
    }
   ],
   "source": [
    "fig= plt.figure(figsize=(20,10))\n",
    "for i in range(1,21): \n",
    "    fig.add_subplot(3,10,i)\n",
    "    plt.imshow(X_train[i])"
   ]
  },
  {
   "cell_type": "code",
   "execution_count": 28,
   "metadata": {
    "colab": {
     "base_uri": "https://localhost:8080/"
    },
    "id": "L9kwtTRx7sDi",
    "outputId": "4254990b-f8cc-4526-ad33-3444a08a9a91"
   },
   "outputs": [
    {
     "name": "stdout",
     "output_type": "stream",
     "text": [
      "(60000, 28, 28) (10000, 28, 28)\n"
     ]
    }
   ],
   "source": [
    "X_train= X_train.astype(np.float32)/255\n",
    "X_test= X_test.astype(np.float32)/255\n",
    "print(X_train.shape, X_test.shape)"
   ]
  },
  {
   "cell_type": "code",
   "execution_count": 29,
   "metadata": {
    "colab": {
     "base_uri": "https://localhost:8080/"
    },
    "id": "v_uYp-O07sDi",
    "outputId": "6398c2bf-7edd-49a5-de65-6a6c1e77bcd8"
   },
   "outputs": [
    {
     "data": {
      "text/plain": [
       "((60000, 28, 28, 1), (60000,), (10000, 28, 28, 1), (10000,))"
      ]
     },
     "execution_count": 29,
     "metadata": {},
     "output_type": "execute_result"
    }
   ],
   "source": [
    "#Image have (width,height,channel) but in this dataset there is no channel. so add one more dimension\n",
    "X_train= np.expand_dims(X_train, -1)\n",
    "X_test= np.expand_dims(X_test, -1)\n",
    "\n",
    "X_train.shape, y_train.shape, X_test.shape, y_test.shape"
   ]
  },
  {
   "cell_type": "code",
   "execution_count": 30,
   "metadata": {
    "id": "JHBiMKHM7sDj"
   },
   "outputs": [],
   "source": [
    "#same work as previous sell to do\n",
    "X_train=X_train.reshape(-1,28,28,1)\n",
    "X_test= X_test.reshape(-1,28,28,1)\n",
    "\n",
    "y_train= to_categorical(y_train)\n",
    "y_test= to_categorical(y_test)"
   ]
  },
  {
   "cell_type": "code",
   "execution_count": 31,
   "metadata": {
    "colab": {
     "base_uri": "https://localhost:8080/"
    },
    "id": "FfacBkf_7sDj",
    "outputId": "a9a88f26-4170-434a-9a94-f6ad71ec874d"
   },
   "outputs": [
    {
     "data": {
      "text/plain": [
       "((60000, 28, 28, 1), (60000, 10), (10000, 28, 28, 1), (10000, 10))"
      ]
     },
     "execution_count": 31,
     "metadata": {},
     "output_type": "execute_result"
    }
   ],
   "source": [
    "X_train.shape, y_train.shape, X_test.shape, y_test.shape"
   ]
  },
  {
   "cell_type": "markdown",
   "metadata": {
    "id": "4G9pZ70P7sDk"
   },
   "source": [
    "# Build CNN model"
   ]
  },
  {
   "cell_type": "code",
   "execution_count": 32,
   "metadata": {
    "id": "hZG-5fMl7sDk"
   },
   "outputs": [],
   "source": [
    "model= Sequential()\n",
    "model.add(Conv2D(filters=32, kernel_size=(5,5), padding= 'same', activation='relu', input_shape=(28,28,1)))\n",
    "model.add(MaxPooling2D(pool_size=(2,2)))\n",
    "model.add(Conv2D(64,(3,3),padding='same',activation='relu'))\n",
    "model.add(Conv2D(128,(3,3),padding='same',activation='relu'))\n",
    "model.add(Flatten())\n",
    "model.add(Dropout(0.2))\n",
    "model.add(Dense(10,activation='softmax'))"
   ]
  },
  {
   "cell_type": "code",
   "execution_count": 33,
   "metadata": {
    "id": "hCI9JCUx7sDk"
   },
   "outputs": [],
   "source": [
    "model.compile(loss='categorical_crossentropy',optimizer='adam',metrics=['accuracy'])"
   ]
  },
  {
   "cell_type": "code",
   "execution_count": 34,
   "metadata": {
    "colab": {
     "base_uri": "https://localhost:8080/"
    },
    "id": "cU8RcGVq8pez",
    "outputId": "5f063325-41a7-44ba-d660-b52ba5bdf5a5"
   },
   "outputs": [
    {
     "name": "stdout",
     "output_type": "stream",
     "text": [
      "Model: \"sequential_1\"\n",
      "_________________________________________________________________\n",
      " Layer (type)                Output Shape              Param #   \n",
      "=================================================================\n",
      " conv2d_3 (Conv2D)           (None, 28, 28, 32)        832       \n",
      "                                                                 \n",
      " max_pooling2d_1 (MaxPooling  (None, 14, 14, 32)       0         \n",
      " 2D)                                                             \n",
      "                                                                 \n",
      " conv2d_4 (Conv2D)           (None, 14, 14, 64)        18496     \n",
      "                                                                 \n",
      " conv2d_5 (Conv2D)           (None, 14, 14, 128)       73856     \n",
      "                                                                 \n",
      " flatten_1 (Flatten)         (None, 25088)             0         \n",
      "                                                                 \n",
      " dropout_1 (Dropout)         (None, 25088)             0         \n",
      "                                                                 \n",
      " dense_1 (Dense)             (None, 10)                250890    \n",
      "                                                                 \n",
      "=================================================================\n",
      "Total params: 344,074\n",
      "Trainable params: 344,074\n",
      "Non-trainable params: 0\n",
      "_________________________________________________________________\n"
     ]
    }
   ],
   "source": [
    "model.summary()"
   ]
  },
  {
   "cell_type": "code",
   "execution_count": 35,
   "metadata": {
    "colab": {
     "base_uri": "https://localhost:8080/"
    },
    "id": "wVflXHkq7sDl",
    "outputId": "38c92bac-3691-4cb6-cd9b-208b7d95ad8b"
   },
   "outputs": [
    {
     "name": "stdout",
     "output_type": "stream",
     "text": [
      "Epoch 1/15\n",
      "469/469 [==============================] - 20s 22ms/step - loss: 0.1592 - accuracy: 0.9515 - val_loss: 0.0430 - val_accuracy: 0.9866\n",
      "Epoch 2/15\n",
      "469/469 [==============================] - 10s 21ms/step - loss: 0.0451 - accuracy: 0.9858 - val_loss: 0.0367 - val_accuracy: 0.9883\n",
      "Epoch 3/15\n",
      "469/469 [==============================] - 10s 21ms/step - loss: 0.0325 - accuracy: 0.9897 - val_loss: 0.0331 - val_accuracy: 0.9886\n",
      "Epoch 4/15\n",
      "469/469 [==============================] - 10s 21ms/step - loss: 0.0233 - accuracy: 0.9925 - val_loss: 0.0276 - val_accuracy: 0.9920\n",
      "Epoch 5/15\n",
      "469/469 [==============================] - 10s 21ms/step - loss: 0.0202 - accuracy: 0.9933 - val_loss: 0.0283 - val_accuracy: 0.9912\n",
      "Epoch 6/15\n",
      "469/469 [==============================] - 10s 21ms/step - loss: 0.0151 - accuracy: 0.9952 - val_loss: 0.0262 - val_accuracy: 0.9927\n",
      "Epoch 7/15\n",
      "469/469 [==============================] - 10s 21ms/step - loss: 0.0115 - accuracy: 0.9962 - val_loss: 0.0386 - val_accuracy: 0.9903\n",
      "Epoch 8/15\n",
      "469/469 [==============================] - 10s 21ms/step - loss: 0.0105 - accuracy: 0.9966 - val_loss: 0.0310 - val_accuracy: 0.9917\n",
      "Epoch 9/15\n",
      "469/469 [==============================] - 10s 21ms/step - loss: 0.0106 - accuracy: 0.9966 - val_loss: 0.0256 - val_accuracy: 0.9926\n",
      "Epoch 10/15\n",
      "469/469 [==============================] - 10s 21ms/step - loss: 0.0076 - accuracy: 0.9974 - val_loss: 0.0381 - val_accuracy: 0.9910\n",
      "Epoch 11/15\n",
      "469/469 [==============================] - 10s 21ms/step - loss: 0.0083 - accuracy: 0.9969 - val_loss: 0.0373 - val_accuracy: 0.9910\n",
      "Epoch 12/15\n",
      "469/469 [==============================] - 10s 21ms/step - loss: 0.0065 - accuracy: 0.9978 - val_loss: 0.0388 - val_accuracy: 0.9896\n",
      "Epoch 13/15\n",
      "469/469 [==============================] - 10s 21ms/step - loss: 0.0066 - accuracy: 0.9977 - val_loss: 0.0350 - val_accuracy: 0.9923\n",
      "Epoch 14/15\n",
      "469/469 [==============================] - 10s 21ms/step - loss: 0.0064 - accuracy: 0.9977 - val_loss: 0.0360 - val_accuracy: 0.9915\n",
      "Epoch 15/15\n",
      "469/469 [==============================] - 10s 21ms/step - loss: 0.0045 - accuracy: 0.9984 - val_loss: 0.0328 - val_accuracy: 0.9921\n"
     ]
    }
   ],
   "source": [
    "model_details = model.fit(X_train, y_train,\n",
    "                    batch_size = 128,\n",
    "                    epochs = 15, # number of iterations\n",
    "                    validation_data= (X_test, y_test),  verbose=1)"
   ]
  },
  {
   "cell_type": "code",
   "execution_count": 36,
   "metadata": {
    "colab": {
     "base_uri": "https://localhost:8080/"
    },
    "id": "zDqdLNeU7sDl",
    "outputId": "90113124-c74d-4c45-aad6-af83663c7bb1"
   },
   "outputs": [
    {
     "name": "stdout",
     "output_type": "stream",
     "text": [
      "313/313 [==============================] - 2s 5ms/step - loss: 0.0328 - accuracy: 0.9921\n",
      "loss= 0.03281869366765022\n",
      "accuracy= 0.9921000003814697\n"
     ]
    }
   ],
   "source": [
    "score= model.evaluate(X_test, y_test, verbose=1)\n",
    "print('loss=', score[0])\n",
    "print('accuracy=', score[1])"
   ]
  },
  {
   "cell_type": "code",
   "execution_count": 37,
   "metadata": {
    "colab": {
     "base_uri": "https://localhost:8080/",
     "height": 298
    },
    "id": "HNEr4qwj9hMS",
    "outputId": "6080e944-a42d-4378-cd39-e0f2cc0448a5"
   },
   "outputs": [
    {
     "data": {
      "text/plain": [
       "<matplotlib.legend.Legend at 0x7f263599bb50>"
      ]
     },
     "execution_count": 37,
     "metadata": {},
     "output_type": "execute_result"
    },
    {
     "data": {
      "image/png": "[encoded data removed]",
      "text/plain": [
       "<Figure size 432x288 with 1 Axes>"
      ]
     },
     "metadata": {
      "needs_background": "light"
     },
     "output_type": "display_data"
    }
   ],
   "source": [
    "plt.plot(model_details.history['accuracy'], label='accuracy')\n",
    "plt.plot(model_details.history['val_accuracy'], label = 'val_accuracy')\n",
    "plt.xlabel('Epoch')\n",
    "plt.ylabel('Accuracy')\n",
    "plt.legend(loc='upper left')\n"
   ]
  }
 ],
 "metadata": {
  "accelerator": "GPU",
  "colab": {
   "collapsed_sections": [],
   "name": "Digit Recognation.ipynb",
   "provenance": []
  },
  "kernelspec": {
   "display_name": "Python 3",
   "language": "python",
   "name": "python3"
  },
  "language_info": {
   "codemirror_mode": {
    "name": "ipython",
    "version": 3
   },
   "file_extension": ".py",
   "mimetype": "text/x-python",
   "name": "python",
   "nbconvert_exporter": "python",
   "pygments_lexer": "ipython3",
   "version": "3.7.3"
  }
 },
 "nbformat": 4,
 "nbformat_minor": 1
}
